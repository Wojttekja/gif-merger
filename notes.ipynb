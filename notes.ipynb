{
 "cells": [
  {
   "cell_type": "markdown",
   "metadata": {},
   "source": [
    "# read gif"
   ]
  },
  {
   "cell_type": "code",
   "execution_count": null,
   "metadata": {},
   "outputs": [],
   "source": [
    "from PIL import Image\n",
    "\n",
    "# Open the GIF file\n",
    "gif_path = 'pon.gif'\n",
    "gif = Image.open(gif_path)\n",
    "\n",
    "# Loop through each frame\n",
    "frame_number = 0\n",
    "while True:\n",
    "    try:\n",
    "        # Save or process the frame\n",
    "        frame = gif.copy()  # Copy the frame to avoid overwriting\n",
    "        frame.save(f'frames/frame_{frame_number}.png')  # Example: save each frame as a PNG file\n",
    "\n",
    "        # Move to the next frame\n",
    "        frame_number += 1\n",
    "        gif.seek(frame_number)\n",
    "    except EOFError:\n",
    "        # When there are no more frames, an EOFError is raised\n",
    "        break\n",
    "\n",
    "print(\"All frames extracted.\")\n"
   ]
  },
  {
   "cell_type": "markdown",
   "metadata": {},
   "source": [
    "# access frame"
   ]
  },
  {
   "cell_type": "code",
   "execution_count": null,
   "metadata": {},
   "outputs": [
    {
     "ename": "",
     "evalue": "",
     "output_type": "error",
     "traceback": [
      "\u001b[1;31mRunning cells with 'venv (Python 3.13.0)' requires the ipykernel package.\n",
      "\u001b[1;31mRun the following command to install 'ipykernel' into the Python environment. \n",
      "\u001b[1;31mCommand: 'c:/Users/Wojtek/Desktop/gif_merger/gif-merger/venv/Scripts/python.exe -m pip install ipykernel -U --force-reinstall'"
     ]
    }
   ],
   "source": [
    "gif.seek(frame_number)"
   ]
  },
  {
   "cell_type": "markdown",
   "metadata": {},
   "source": []
  }
 ],
 "metadata": {
  "kernelspec": {
   "display_name": "venv",
   "language": "python",
   "name": "python3"
  },
  "language_info": {
   "name": "python",
   "version": "3.13.0"
  }
 },
 "nbformat": 4,
 "nbformat_minor": 2
}
